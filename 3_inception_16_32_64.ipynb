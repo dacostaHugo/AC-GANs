{
  "nbformat": 4,
  "nbformat_minor": 0,
  "metadata": {
    "colab": {
      "name": "inception_16_32_64.ipynb",
      "provenance": [],
      "collapsed_sections": [],
      "toc_visible": true
    },
    "kernelspec": {
      "display_name": "Python 3",
      "name": "python3"
    }
  },
  "cells": [
    {
      "cell_type": "markdown",
      "metadata": {
        "id": "-D-pKH5Eavcl"
      },
      "source": [
        "# IMPORTS"
      ]
    },
    {
      "cell_type": "code",
      "metadata": {
        "id": "lmz5QYknSiL8"
      },
      "source": [
        "from __future__ import print_function, division\r\n",
        "\r\n",
        "import tensorflow as tf\r\n",
        "import tensorflow.keras as keras\r\n",
        "import numpy as np\r\n",
        "import matplotlib.pyplot as plt\r\n",
        "\r\n",
        "from tensorflow.keras.layers import Input, Dense, Reshape, Flatten, Dropout, multiply, Conv2D, UpSampling2D, concatenate, Conv2DTranspose\r\n",
        "from tensorflow.keras.layers import BatchNormalization, Activation, Embedding, ZeroPadding2D\r\n",
        "from keras.layers.advanced_activations import LeakyReLU\r\n",
        "from tensorflow.keras.models import Sequential, Model\r\n",
        "from tensorflow.keras.optimizers import Adam\r\n",
        "\r\n",
        "from keras.datasets import mnist, fashion_mnist, cifar10\r\n",
        "import tensorflow_datasets as tfds\r\n",
        "\r\n",
        "from tensorflow.keras.layers import GaussianNoise\r\n",
        "from tensorflow.keras.layers import Activation\r\n",
        "from keras import backend as K\r\n",
        "from keras.utils.generic_utils import get_custom_objects\r\n",
        "\r\n",
        "import pandas as pd"
      ],
      "execution_count": null,
      "outputs": []
    },
    {
      "cell_type": "markdown",
      "metadata": {
        "id": "S3t2OIlQa1Y0"
      },
      "source": [
        "# INSTANCIATION ACGAN"
      ]
    },
    {
      "cell_type": "code",
      "metadata": {
        "id": "LUVXx_7QTBc3"
      },
      "source": [
        "label_dict = {0: 'cat',\r\n",
        "              1: 'dog',\r\n",
        "              2: 'horse',\r\n",
        "              3: 'car',\r\n",
        "              4: 'truck',\r\n",
        "              5: 'plane',\r\n",
        "              6: 'frog',\r\n",
        "              7: 'bird',\r\n",
        "              8: 'boat',\r\n",
        "              9: 'deer'}"
      ],
      "execution_count": null,
      "outputs": []
    },
    {
      "cell_type": "code",
      "metadata": {
        "id": "o0u8uKGEOsjc"
      },
      "source": [
        "class AcGan_Cifar():\r\n",
        "  def __init__(self, nb_rows, nb_columns, nb_channels, nb_classes, noise_dim=110):\r\n",
        "    self.input_shape = (nb_rows, nb_columns, nb_channels)\r\n",
        "    self.nb_classes = nb_classes\r\n",
        "    self.noise_dim = noise_dim\r\n",
        "    self.discriminator = Sequential()\r\n",
        "    self.generator = Sequential()\r\n",
        "    self.model = None\r\n",
        "    self.optimizer = Adam(0.0001, 0.5, 0.999)\r\n",
        "    #self.optimizer = Adam(0.001, 0.5, 0.999)\r\n",
        "    self.losses = ['binary_crossentropy', 'sparse_categorical_crossentropy']\r\n",
        "\r\n",
        "\r\n",
        "  def instanciate_discriminator(self) :\r\n",
        "    self.discriminator.add(Conv2D(16, kernel_size=3, strides=2, \r\n",
        "                                  input_shape=self.input_shape, \r\n",
        "                                  padding=\"same\",\r\n",
        "                                  use_bias=True,\r\n",
        "                                  bias_initializer=keras.initializers.RandomNormal(mean=0.0, stddev=0.0)))\r\n",
        "    self.discriminator.add(LeakyReLU(alpha=0.2))\r\n",
        "    #self.discriminator.add(Activation('noisy_LeakyReLU_1'))\r\n",
        "    self.discriminator.add(Dropout(0.5))\r\n",
        "\r\n",
        "    self.discriminator.add(Conv2D(32, kernel_size=3, strides=1, \r\n",
        "                                  padding=\"same\",\r\n",
        "                                  use_bias=True,\r\n",
        "                                  bias_initializer=keras.initializers.RandomNormal(mean=0.0, stddev=0.02)))\r\n",
        "    self.discriminator.add(ZeroPadding2D(padding=((0,1),(0,1))))\r\n",
        "    self.discriminator.add(LeakyReLU(alpha=0.2))\r\n",
        "    #self.discriminator.add(Activation('noisy_LeakyReLU_1'))\r\n",
        "    self.discriminator.add(Dropout(0.5))\r\n",
        "    self.discriminator.add(BatchNormalization(momentum=0.8))\r\n",
        "\r\n",
        "    self.discriminator.add(Conv2D(64, kernel_size=3, strides=2, \r\n",
        "                                  padding=\"same\",\r\n",
        "                                  use_bias=True,\r\n",
        "                                  bias_initializer=keras.initializers.RandomNormal(mean=0.0, stddev=0.02)))    \r\n",
        "    self.discriminator.add(LeakyReLU(alpha=0.2))\r\n",
        "    #self.discriminator.add(Activation('noisy_LeakyReLU_1'))\r\n",
        "    self.discriminator.add(Dropout(0.5))\r\n",
        "    self.discriminator.add(BatchNormalization(momentum=0.8))\r\n",
        "\r\n",
        "    self.discriminator.add(Conv2D(128, kernel_size=3, strides=1, \r\n",
        "                                  padding=\"same\",\r\n",
        "                                  use_bias=True,\r\n",
        "                                  bias_initializer=keras.initializers.RandomNormal(mean=0.0, stddev=0.02)))\r\n",
        "    self.discriminator.add(LeakyReLU(alpha=0.2))\r\n",
        "    #self.discriminator.add(Activation('noisy_LeakyReLU_1'))\r\n",
        "    self.discriminator.add(Dropout(0.5))\r\n",
        "    self.discriminator.add(BatchNormalization(momentum=0.8))\r\n",
        "\r\n",
        "    self.discriminator.add(Conv2D(256, kernel_size=3, strides=2, \r\n",
        "                                  padding=\"same\",\r\n",
        "                                  use_bias=True,\r\n",
        "                                  bias_initializer=keras.initializers.RandomNormal(mean=0.0, stddev=0.02)))\r\n",
        "    self.discriminator.add(LeakyReLU(alpha=0.2))\r\n",
        "    #self.discriminator.add(Activation('noisy_LeakyReLU_1'))\r\n",
        "    self.discriminator.add(Dropout(0.5))\r\n",
        "    self.discriminator.add(BatchNormalization(momentum=0.8))\r\n",
        "\r\n",
        "    self.discriminator.add(Conv2D(512, kernel_size=3, strides=1, \r\n",
        "                                  padding=\"same\",\r\n",
        "                                  use_bias=True,\r\n",
        "                                  bias_initializer=keras.initializers.RandomNormal(mean=0.0, stddev=0.0)))\r\n",
        "    self.discriminator.add(LeakyReLU(alpha=0.2))\r\n",
        "    #self.discriminator.add(Activation('noisy_LeakyReLU_1'))\r\n",
        "    self.discriminator.add(Dropout(0.5))\r\n",
        "    self.discriminator.add(BatchNormalization(momentum=0.8))\r\n",
        "\r\n",
        "    self.discriminator.add(Flatten())\r\n",
        "    self.discriminator.summary()\r\n",
        "\r\n",
        "    # Extract feature representation\r\n",
        "    img_real = Input(shape=self.input_shape)\r\n",
        "    features = self.discriminator(img_real)\r\n",
        "\r\n",
        "    # Determine validity and label of the image\r\n",
        "    validity = Dense(1, activation=\"sigmoid\", \r\n",
        "                      bias_initializer=keras.initializers.RandomNormal(mean=0.0, stddev=0.02),\r\n",
        "                      kernel_regularizer=keras.regularizers.l2(0.001)\r\n",
        "                      )(features)\r\n",
        "    label = Dense(self.nb_classes+1, activation=\"softmax\",\r\n",
        "                      bias_initializer=keras.initializers.RandomNormal(mean=0.0, stddev=0.02),\r\n",
        "                      kernel_regularizer=keras.regularizers.l2(0.001)\r\n",
        "                      )(features)\r\n",
        "\r\n",
        "    self.discriminator = Model(img_real, [validity, label])\r\n",
        "    self.discriminator.compile(loss=self.losses,\r\n",
        "      optimizer=self.optimizer,\r\n",
        "      metrics=['accuracy'])\r\n",
        "\r\n",
        "    self.discriminator.summary()\r\n",
        "\r\n",
        "\r\n",
        "  def instanciate_generator(self):\r\n",
        "    start_dim = self.input_shape[0] / 8\r\n",
        "    if(start_dim % 1 != 0.0):\r\n",
        "      raise ValueError('Image shape not divisible by 8')\r\n",
        "    start_dim = int(start_dim)\r\n",
        "    \r\n",
        "    self.generator.add(Dense(24 * start_dim * start_dim, activation=\"relu\", input_dim=self.noise_dim))\r\n",
        "    self.generator.add(Reshape((start_dim, start_dim, 24)))\r\n",
        "    #self.generator.add(BatchNormalization(momentum=0.8))\r\n",
        "    #self.generator.add(UpSampling2D())\r\n",
        "\r\n",
        "    self.generator.add(Conv2DTranspose(192, kernel_size=5, strides=2, padding=\"same\"))\r\n",
        "    self.generator.add(Activation(\"relu\"))\r\n",
        "    self.generator.add(BatchNormalization(momentum=0.8))\r\n",
        "    #self.generator.add(UpSampling2D())\r\n",
        "\r\n",
        "    self.generator.add(Conv2DTranspose(96, kernel_size=5, strides=2, padding=\"same\"))\r\n",
        "    self.generator.add(Activation(\"relu\"))\r\n",
        "    self.generator.add(BatchNormalization(momentum=0.8))\r\n",
        "\r\n",
        "    self.generator.add(Conv2DTranspose(self.input_shape[2], kernel_size=5, strides=2, padding='same'))\r\n",
        "    self.generator.add(Activation(\"tanh\"))\r\n",
        "\r\n",
        "    self.generator.summary()\r\n",
        "\r\n",
        "    noise = Input(shape=(self.noise_dim,))\r\n",
        "    label = Input(shape=(1,), dtype='int32')\r\n",
        "    label_embedding = Flatten()(Embedding(self.nb_classes, self.noise_dim)(label))\r\n",
        "\r\n",
        "    model_input = multiply([noise, label_embedding])\r\n",
        "    img_gen = self.generator(model_input)\r\n",
        "\r\n",
        "    self.generator = Model([noise, label], img_gen)\r\n",
        "    self.generator.summary()\r\n",
        "\r\n",
        "\r\n",
        "  def instanciate_combined_model(self):\r\n",
        "    # The generator takes noise and the target label as input and generates the corresponding digit of that label\r\n",
        "    noise = Input(shape=(self.noise_dim,))\r\n",
        "    label = Input(shape=(1,), dtype='int32')\r\n",
        "    img_gen = self.generator([noise, label])\r\n",
        "\r\n",
        "    # For the combined model we will only train the generator\r\n",
        "    self.discriminator.trainable = False\r\n",
        "\r\n",
        "    # The discriminator takes generated image as input and determines validity and the label of that image\r\n",
        "    valid, target_label = self.discriminator(img_gen)\r\n",
        "\r\n",
        "    # The combined model  (stacked generator and discriminator) trains the generator to fool the discriminator\r\n",
        "    self.model = Model([noise, label], [valid, target_label])\r\n",
        "    self.model.compile(loss=self.losses,\r\n",
        "        optimizer=self.optimizer)\r\n",
        "    \r\n",
        "\r\n",
        "    def save(model, model_name):\r\n",
        "      model_path = \"../saved_model/%s.json\" % model_name\r\n",
        "      weights_path = \"../saved_model/%s_weights.hdf5\" % model_name\r\n",
        "      options = {\"file_arch\": model_path,\r\n",
        "                  \"file_weight\": weights_path}\r\n",
        "      json_string = model.to_json()\r\n",
        "      open(options['file_arch'], 'w').write(json_string)\r\n",
        "      model.save_weights(options['file_weight'])\r\n",
        "\r\n",
        "      #save(self.generator, \"generator\")\r\n",
        "      #save(self.discriminator, \"discriminator\")\r\n",
        "\r\n",
        "\r\n",
        "\r\n",
        "  def train(self, X_train, y_train, epochs, batch_size=100, sample_interval=50):\r\n",
        "    # Configure inputs\r\n",
        "    X_train = ( X_train.astype(np.float32) - 127.5) / 127.5\r\n",
        "    #X_train = np.expand_dims(X_train, axis=4)\r\n",
        "    y_train = y_train.reshape(-1, 1)\r\n",
        "\r\n",
        "    # Adversarial ground truths\r\n",
        "    valid = np.ones((batch_size, 1))\r\n",
        "    fake = np.zeros((batch_size, 1))\r\n",
        "\r\n",
        "    # Loss output\r\n",
        "    g_loss_epochs = np.zeros((epochs, 1))\r\n",
        "    d_loss_epochs = np.zeros((epochs, 1))\r\n",
        "\r\n",
        "    for epoch in range(epochs):\r\n",
        "        # ---------------------\r\n",
        "        #  Train Discriminator\r\n",
        "        # ---------------------\r\n",
        "        # Select a random batch of images\r\n",
        "        idx = np.random.randint(0, X_train.shape[0], batch_size)\r\n",
        "        imgs = X_train[idx]\r\n",
        "\r\n",
        "        # Sample noise as generator input\r\n",
        "        noise = np.random.normal(0, 1, (batch_size, self.noise_dim))\r\n",
        "\r\n",
        "        # The labels of the digits that the generator tries to create an\r\n",
        "        # image representation of\r\n",
        "        sampled_labels = np.random.randint(0, self.nb_classes, (batch_size, 1))\r\n",
        "\r\n",
        "        # Generate a half batch of new images\r\n",
        "        gen_imgs = self.generator.predict([noise, sampled_labels])\r\n",
        "\r\n",
        "        # Image labels. 0-9 if image is valid or 10 if it is generated (fake)\r\n",
        "        img_labels = y_train[idx]\r\n",
        "        fake_labels = self.nb_classes * np.ones(img_labels.shape)\r\n",
        "\r\n",
        "\r\n",
        "        # Train the discriminator\r\n",
        "\r\n",
        "        # mélanger les Set de imgs et gen_imgs, garder les index, et assigner les bons labels, train en 1 fois\r\n",
        "        #d_loss_real = self.discriminator.train_on_batch(imgs, [valid, img_labels])\r\n",
        "        #d_loss_fake = self.discriminator.train_on_batch(gen_imgs, [fake, fake_labels])\r\n",
        "        #d_loss = 0.5 * np.add(d_loss_real, d_loss_fake)\r\n",
        "\r\n",
        "        all_imgs = np.concatenate((imgs, gen_imgs))\r\n",
        "        all_sources = np.concatenate((valid, fake))\r\n",
        "        all_labels = np.concatenate((img_labels, fake_labels))\r\n",
        "        indices = np.indices((2*batch_size,))[0]\r\n",
        "        np.random.shuffle(indices)\r\n",
        "        d_loss = self.discriminator.train_on_batch(all_imgs[indices], [all_sources[indices], all_labels[indices]])\r\n",
        "\r\n",
        "        # ---------------------\r\n",
        "        #  Train Generator\r\n",
        "        # ---------------------\r\n",
        "        g_loss = self.model.train_on_batch([noise, sampled_labels], [valid, sampled_labels])\r\n",
        "\r\n",
        "        #show the final losses\r\n",
        "        g_loss_epochs[epoch] = g_loss[0]\r\n",
        "        d_loss_epochs[epoch] = d_loss[0]\r\n",
        "\r\n",
        "        # If at save interval => save generated image samples\r\n",
        "        if epoch % sample_interval == 0:\r\n",
        "            # Plot the progress\r\n",
        "            print (\"Epoch: %d [D loss: %f, acc.: %.2f%%, op_acc: %.2f%%] [G loss: %f]\" % (epoch, d_loss[0], 100*d_loss[3], 100*d_loss[4], g_loss[0]))\r\n",
        "            #do not save model\r\n",
        "            #self.save_model()\r\n",
        "            self.model.save('acgan.h5')\r\n",
        "            #!gupload --to '1ZKgg7ho7h-9ONXg0bVsNcwl4GzpOJqry' acgan.h5\r\n",
        "            self.sample_images(epoch, smp_rows=2, smp_cols=10, save_img=False)\r\n",
        "\r\n",
        "    return g_loss_epochs, d_loss_epochs\r\n",
        " \r\n",
        "\r\n",
        "\r\n",
        "\r\n",
        "  #row, cols to be sampled\r\n",
        "  def sample_images(self, epoch, smp_rows=5, smp_cols=10, save_img=True, fig_size=(8, 3)):\r\n",
        "      r, c = smp_rows, smp_cols\r\n",
        "      noise = np.random.normal(0, 1, (r * c, self.noise_dim))\r\n",
        "      sampled_labels = np.array([num for _ in range(r) for num in range(c)])\r\n",
        "      gen_imgs = self.generator.predict([noise, sampled_labels])\r\n",
        "      # Rescale images 0 - 1\r\n",
        "      gen_imgs = 0.5 * gen_imgs + 0.5\r\n",
        "      #gen_ims = (gen_imgs * 127.5) + 127.5\r\n",
        "\r\n",
        "      #plt.figure(figsize=fig_size)\r\n",
        "      fig, axs = plt.subplots(r, c, figsize=fig_size)\r\n",
        "      cnt = 0\r\n",
        "      for i in range(r):\r\n",
        "          for j in range(c):\r\n",
        "              axs[i,j].imshow(gen_imgs[cnt,:,:,:]) #, cmap='gray')\r\n",
        "              axs[i,j].axis('off')\r\n",
        "              cnt += 1\r\n",
        "      if save_img:\r\n",
        "          fig.savefig(\"../images/%d.png\" % epoch)\r\n",
        "      else:\r\n",
        "          #plt.figure(figsize=fig_size)\r\n",
        "          plt.show()\r\n",
        "      plt.close()\r\n",
        "\r\n",
        "\r\n",
        "\r\n",
        "  def sample_single_image(self, noise, label):\r\n",
        "      gen_imgs = self.generator.predict([noise, np.array(label).reshape((1, ))])\r\n",
        "      # Rescale images 0 - 1\r\n",
        "      gen_imgs = 0.5 * gen_imgs + 0.5\r\n",
        "      #gen_ims = (gen_imgs * 127.5) + 127.5\r\n",
        "      plt.imshow(gen_imgs[0, :, :, :]) #, cmap='gray')\r\n",
        "  \r\n",
        "  def generate_random_images(self, n_imgs):\r\n",
        "    noise = np.random.normal(0, 1, (n_imgs, self.noise_dim))\r\n",
        "    sampled_labels = np.random.randint(0, self.nb_classes, (n_imgs, 1))\r\n",
        "    gen_imgs = self.generator.predict([noise, sampled_labels])\r\n",
        "    return 0.5 * gen_imgs + 0.5, np.transpose(sampled_labels)[0]"
      ],
      "execution_count": null,
      "outputs": []
    },
    {
      "cell_type": "code",
      "metadata": {
        "colab": {
          "base_uri": "https://localhost:8080/"
        },
        "id": "6zUXmS2cPw0H",
        "outputId": "61fcec44-af5d-4fd0-e91b-ab56a81ad000"
      },
      "source": [
        "ac_gan = AcGan_Cifar(nb_rows=32, nb_columns=32, nb_channels=3, nb_classes=len(label_dict), noise_dim=110)\r\n",
        "ac_gan.instanciate_discriminator()\r\n",
        "ac_gan.instanciate_generator()\r\n",
        "ac_gan.instanciate_combined_model()"
      ],
      "execution_count": null,
      "outputs": [
        {
          "output_type": "stream",
          "text": [
            "Model: \"sequential_15\"\n",
            "_________________________________________________________________\n",
            "Layer (type)                 Output Shape              Param #   \n",
            "=================================================================\n",
            "conv2d_42 (Conv2D)           (None, 16, 16, 16)        448       \n",
            "_________________________________________________________________\n",
            "leaky_re_lu_36 (LeakyReLU)   (None, 16, 16, 16)        0         \n",
            "_________________________________________________________________\n",
            "dropout_36 (Dropout)         (None, 16, 16, 16)        0         \n",
            "_________________________________________________________________\n",
            "conv2d_43 (Conv2D)           (None, 16, 16, 32)        4640      \n",
            "_________________________________________________________________\n",
            "zero_padding2d_6 (ZeroPaddin (None, 17, 17, 32)        0         \n",
            "_________________________________________________________________\n",
            "leaky_re_lu_37 (LeakyReLU)   (None, 17, 17, 32)        0         \n",
            "_________________________________________________________________\n",
            "dropout_37 (Dropout)         (None, 17, 17, 32)        0         \n",
            "_________________________________________________________________\n",
            "batch_normalization_42 (Batc (None, 17, 17, 32)        128       \n",
            "_________________________________________________________________\n",
            "conv2d_44 (Conv2D)           (None, 9, 9, 64)          18496     \n",
            "_________________________________________________________________\n",
            "leaky_re_lu_38 (LeakyReLU)   (None, 9, 9, 64)          0         \n",
            "_________________________________________________________________\n",
            "dropout_38 (Dropout)         (None, 9, 9, 64)          0         \n",
            "_________________________________________________________________\n",
            "batch_normalization_43 (Batc (None, 9, 9, 64)          256       \n",
            "_________________________________________________________________\n",
            "conv2d_45 (Conv2D)           (None, 9, 9, 128)         73856     \n",
            "_________________________________________________________________\n",
            "leaky_re_lu_39 (LeakyReLU)   (None, 9, 9, 128)         0         \n",
            "_________________________________________________________________\n",
            "dropout_39 (Dropout)         (None, 9, 9, 128)         0         \n",
            "_________________________________________________________________\n",
            "batch_normalization_44 (Batc (None, 9, 9, 128)         512       \n",
            "_________________________________________________________________\n",
            "conv2d_46 (Conv2D)           (None, 5, 5, 256)         295168    \n",
            "_________________________________________________________________\n",
            "leaky_re_lu_40 (LeakyReLU)   (None, 5, 5, 256)         0         \n",
            "_________________________________________________________________\n",
            "dropout_40 (Dropout)         (None, 5, 5, 256)         0         \n",
            "_________________________________________________________________\n",
            "batch_normalization_45 (Batc (None, 5, 5, 256)         1024      \n",
            "_________________________________________________________________\n",
            "conv2d_47 (Conv2D)           (None, 5, 5, 512)         1180160   \n",
            "_________________________________________________________________\n",
            "leaky_re_lu_41 (LeakyReLU)   (None, 5, 5, 512)         0         \n",
            "_________________________________________________________________\n",
            "dropout_41 (Dropout)         (None, 5, 5, 512)         0         \n",
            "_________________________________________________________________\n",
            "batch_normalization_46 (Batc (None, 5, 5, 512)         2048      \n",
            "_________________________________________________________________\n",
            "flatten_15 (Flatten)         (None, 12800)             0         \n",
            "=================================================================\n",
            "Total params: 1,576,736\n",
            "Trainable params: 1,574,752\n",
            "Non-trainable params: 1,984\n",
            "_________________________________________________________________\n",
            "Model: \"model_18\"\n",
            "__________________________________________________________________________________________________\n",
            "Layer (type)                    Output Shape         Param #     Connected to                     \n",
            "==================================================================================================\n",
            "input_31 (InputLayer)           [(None, 32, 32, 3)]  0                                            \n",
            "__________________________________________________________________________________________________\n",
            "sequential_15 (Sequential)      (None, 12800)        1576736     input_31[0][0]                   \n",
            "__________________________________________________________________________________________________\n",
            "dense_24 (Dense)                (None, 1)            12801       sequential_15[0][0]              \n",
            "__________________________________________________________________________________________________\n",
            "dense_25 (Dense)                (None, 11)           140811      sequential_15[0][0]              \n",
            "==================================================================================================\n",
            "Total params: 1,730,348\n",
            "Trainable params: 1,728,364\n",
            "Non-trainable params: 1,984\n",
            "__________________________________________________________________________________________________\n",
            "Model: \"sequential_16\"\n",
            "_________________________________________________________________\n",
            "Layer (type)                 Output Shape              Param #   \n",
            "=================================================================\n",
            "dense_26 (Dense)             (None, 384)               42624     \n",
            "_________________________________________________________________\n",
            "reshape_6 (Reshape)          (None, 4, 4, 24)          0         \n",
            "_________________________________________________________________\n",
            "conv2d_transpose_18 (Conv2DT (None, 8, 8, 192)         115392    \n",
            "_________________________________________________________________\n",
            "activation_18 (Activation)   (None, 8, 8, 192)         0         \n",
            "_________________________________________________________________\n",
            "batch_normalization_47 (Batc (None, 8, 8, 192)         768       \n",
            "_________________________________________________________________\n",
            "conv2d_transpose_19 (Conv2DT (None, 16, 16, 96)        460896    \n",
            "_________________________________________________________________\n",
            "activation_19 (Activation)   (None, 16, 16, 96)        0         \n",
            "_________________________________________________________________\n",
            "batch_normalization_48 (Batc (None, 16, 16, 96)        384       \n",
            "_________________________________________________________________\n",
            "conv2d_transpose_20 (Conv2DT (None, 32, 32, 3)         7203      \n",
            "_________________________________________________________________\n",
            "activation_20 (Activation)   (None, 32, 32, 3)         0         \n",
            "=================================================================\n",
            "Total params: 627,267\n",
            "Trainable params: 626,691\n",
            "Non-trainable params: 576\n",
            "_________________________________________________________________\n",
            "Model: \"model_19\"\n",
            "__________________________________________________________________________________________________\n",
            "Layer (type)                    Output Shape         Param #     Connected to                     \n",
            "==================================================================================================\n",
            "input_33 (InputLayer)           [(None, 1)]          0                                            \n",
            "__________________________________________________________________________________________________\n",
            "embedding_6 (Embedding)         (None, 1, 110)       1100        input_33[0][0]                   \n",
            "__________________________________________________________________________________________________\n",
            "input_32 (InputLayer)           [(None, 110)]        0                                            \n",
            "__________________________________________________________________________________________________\n",
            "flatten_16 (Flatten)            (None, 110)          0           embedding_6[0][0]                \n",
            "__________________________________________________________________________________________________\n",
            "multiply_6 (Multiply)           (None, 110)          0           input_32[0][0]                   \n",
            "                                                                 flatten_16[0][0]                 \n",
            "__________________________________________________________________________________________________\n",
            "sequential_16 (Sequential)      (None, 32, 32, 3)    627267      multiply_6[0][0]                 \n",
            "==================================================================================================\n",
            "Total params: 628,367\n",
            "Trainable params: 627,791\n",
            "Non-trainable params: 576\n",
            "__________________________________________________________________________________________________\n"
          ],
          "name": "stdout"
        }
      ]
    },
    {
      "cell_type": "code",
      "metadata": {
        "id": "sRSD5et9SUhh"
      },
      "source": [
        "ac_gan.model.load_weights('acgan_last.h5')"
      ],
      "execution_count": null,
      "outputs": []
    },
    {
      "cell_type": "markdown",
      "metadata": {
        "id": "R6aOoBEQXwjb"
      },
      "source": [
        "# GENERATION & RESIZING"
      ]
    },
    {
      "cell_type": "code",
      "metadata": {
        "colab": {
          "base_uri": "https://localhost:8080/"
        },
        "id": "to2EA2qmVa9i",
        "outputId": "5e4b7fc7-7538-4b70-8734-9f181f2a35a3"
      },
      "source": [
        "gen_imgs, labels = ac_gan.generate_random_images(50000)\r\n",
        "gen_imgs.shape"
      ],
      "execution_count": null,
      "outputs": [
        {
          "output_type": "execute_result",
          "data": {
            "text/plain": [
              "(50000, 32, 32, 3)"
            ]
          },
          "metadata": {
            "tags": []
          },
          "execution_count": 68
        }
      ]
    },
    {
      "cell_type": "code",
      "metadata": {
        "id": "NAdV4ebCZ3sq"
      },
      "source": [
        "from skimage.transform import resize\r\n",
        "\r\n",
        "def resize_imgs(imgs, dimension):\r\n",
        "  resized_imgs = []\r\n",
        "  for i in imgs:\r\n",
        "    resized_imgs += [resize(i, (dimension, dimension, 3), anti_aliasing=True)]\r\n",
        "  return np.array(resized_imgs)"
      ],
      "execution_count": null,
      "outputs": []
    },
    {
      "cell_type": "code",
      "metadata": {
        "id": "VR_48lBqXyIQ"
      },
      "source": [
        "X_32x32 = gen_imgs\r\n",
        "X_16x16 = resize_imgs(X_32x32, 16)\r\n",
        "X_64x64 = resize_imgs(X_32x32, 64)"
      ],
      "execution_count": null,
      "outputs": []
    },
    {
      "cell_type": "markdown",
      "metadata": {
        "id": "nIZyNgKCW9i_"
      },
      "source": [
        "# 32x32"
      ]
    },
    {
      "cell_type": "code",
      "metadata": {
        "id": "FFh3d_D2W_-z"
      },
      "source": [
        "# Importing the Keras libraries and packages\r\n",
        "from keras.models import Sequential\r\n",
        "from keras.layers import Conv2D\r\n",
        "from keras.layers import MaxPooling2D\r\n",
        "from keras.layers import Flatten\r\n",
        "from keras.layers import Dense"
      ],
      "execution_count": null,
      "outputs": []
    },
    {
      "cell_type": "code",
      "metadata": {
        "id": "Ox_lmyQkXnNv"
      },
      "source": [
        "# Initialising the CNN\r\n",
        "classifier = Sequential()\r\n",
        "# Step 1 - Convolution\r\n",
        "classifier.add(Conv2D(32, (3, 3), input_shape = (32, 32, 3), activation = 'relu'))\r\n",
        "# Step 2 - Pooling\r\n",
        "classifier.add(MaxPooling2D(pool_size = (2, 2)))\r\n",
        "# Adding a second convolutional layer\r\n",
        "classifier.add(Conv2D(32, (3, 3), activation = 'relu'))\r\n",
        "classifier.add(MaxPooling2D(pool_size = (2, 2)))\r\n",
        "# Step 3 - Flattening\r\n",
        "classifier.add(Flatten())\r\n",
        "# Step 4 - Full connection\r\n",
        "classifier.add(Dense(units = 128, activation = 'relu'))\r\n",
        "classifier.add(Dense(units = 10, activation = 'softmax'))\r\n",
        "# Compiling the CNN\r\n",
        "classifier.compile(optimizer = 'adam', loss = 'categorical_crossentropy', metrics = ['accuracy'])"
      ],
      "execution_count": null,
      "outputs": []
    },
    {
      "cell_type": "code",
      "metadata": {
        "id": "3IF_5iVBzp_Z"
      },
      "source": [
        "classifier.load_weights('cnn_32x32.h5')"
      ],
      "execution_count": null,
      "outputs": []
    },
    {
      "cell_type": "code",
      "metadata": {
        "id": "bDmEFqHxwDa-"
      },
      "source": [
        "y_pred = classifier.predict(X_32x32)"
      ],
      "execution_count": null,
      "outputs": []
    },
    {
      "cell_type": "code",
      "metadata": {
        "id": "WhICI2SmyI7s"
      },
      "source": [
        "def probs_to_label(arr):\r\n",
        "  return np.argmax(arr)\r\n",
        "\r\n",
        "def accuracy(y_true, y_pred):\r\n",
        "  y_pred = np.array([probs_to_label(y) for y in y_pred])\r\n",
        "  total = 0\r\n",
        "  for (yt, yp) in zip(y_true, y_pred):\r\n",
        "    if yt == yp:\r\n",
        "      total += 1\r\n",
        "  return total/len(y_true)"
      ],
      "execution_count": null,
      "outputs": []
    },
    {
      "cell_type": "code",
      "metadata": {
        "colab": {
          "base_uri": "https://localhost:8080/"
        },
        "id": "liB_yBbPzIEM",
        "outputId": "3de9df63-cb0b-4d25-954d-82303cfec0dc"
      },
      "source": [
        "acc_32x32 = accuracy(labels, y_pred)\r\n",
        "acc_32x32"
      ],
      "execution_count": null,
      "outputs": [
        {
          "output_type": "execute_result",
          "data": {
            "text/plain": [
              "0.1119"
            ]
          },
          "metadata": {
            "tags": []
          },
          "execution_count": 76
        }
      ]
    },
    {
      "cell_type": "markdown",
      "metadata": {
        "id": "hmI5GpbRYd0p"
      },
      "source": [
        "# 16x16"
      ]
    },
    {
      "cell_type": "code",
      "metadata": {
        "id": "xIFDEf3BYhVB"
      },
      "source": [
        "# Initialising the CNN\r\n",
        "classifier = Sequential()\r\n",
        "# Step 1 - Convolution\r\n",
        "classifier.add(Conv2D(32, (3, 3), input_shape = (16, 16, 3), activation = 'relu'))\r\n",
        "# Step 2 - Pooling\r\n",
        "classifier.add(MaxPooling2D(pool_size = (2, 2)))\r\n",
        "# Adding a second convolutional layer\r\n",
        "classifier.add(Conv2D(32, (3, 3), activation = 'relu'))\r\n",
        "classifier.add(MaxPooling2D(pool_size = (2, 2)))\r\n",
        "# Step 3 - Flattening\r\n",
        "classifier.add(Flatten())\r\n",
        "# Step 4 - Full connection\r\n",
        "classifier.add(Dense(units = 128, activation = 'relu'))\r\n",
        "classifier.add(Dense(units = 10, activation = 'softmax'))\r\n",
        "# Compiling the CNN\r\n",
        "classifier.compile(optimizer = 'adam', loss = 'categorical_crossentropy', metrics = ['accuracy'])"
      ],
      "execution_count": null,
      "outputs": []
    },
    {
      "cell_type": "code",
      "metadata": {
        "id": "Eww4vG_1Y5Pu"
      },
      "source": [
        "classifier.load_weights('cnn_16x16.h5')"
      ],
      "execution_count": null,
      "outputs": []
    },
    {
      "cell_type": "code",
      "metadata": {
        "id": "PfGAJFvLY-ZS"
      },
      "source": [
        "y_pred = classifier.predict(X_16x16)"
      ],
      "execution_count": null,
      "outputs": []
    },
    {
      "cell_type": "code",
      "metadata": {
        "colab": {
          "base_uri": "https://localhost:8080/"
        },
        "id": "ku_KxEC6ZCTt",
        "outputId": "b2782e64-3acb-476a-a4fd-8a3eef1d9cce"
      },
      "source": [
        "acc_16x16 = accuracy(labels, y_pred)\r\n",
        "acc_16x16"
      ],
      "execution_count": null,
      "outputs": [
        {
          "output_type": "execute_result",
          "data": {
            "text/plain": [
              "0.8462"
            ]
          },
          "metadata": {
            "tags": []
          },
          "execution_count": 80
        }
      ]
    },
    {
      "cell_type": "markdown",
      "metadata": {
        "id": "jz3Zl4ciZHim"
      },
      "source": [
        "# 64x64"
      ]
    },
    {
      "cell_type": "code",
      "metadata": {
        "id": "2sLTj5FtZGa9"
      },
      "source": [
        "# Initialising the CNN\r\n",
        "classifier = Sequential()\r\n",
        "# Step 1 - Convolution\r\n",
        "classifier.add(Conv2D(32, (3, 3), input_shape = (64, 64, 3), activation = 'relu'))\r\n",
        "# Step 2 - Pooling\r\n",
        "classifier.add(MaxPooling2D(pool_size = (2, 2)))\r\n",
        "# Adding a second convolutional layer\r\n",
        "classifier.add(Conv2D(32, (3, 3), activation = 'relu'))\r\n",
        "classifier.add(MaxPooling2D(pool_size = (2, 2)))\r\n",
        "# Step 3 - Flattening\r\n",
        "classifier.add(Flatten())\r\n",
        "# Step 4 - Full connection\r\n",
        "classifier.add(Dense(units = 128, activation = 'relu'))\r\n",
        "classifier.add(Dense(units = 10, activation = 'softmax'))\r\n",
        "# Compiling the CNN\r\n",
        "classifier.compile(optimizer = 'adam', loss = 'categorical_crossentropy', metrics = ['accuracy'])"
      ],
      "execution_count": null,
      "outputs": []
    },
    {
      "cell_type": "code",
      "metadata": {
        "id": "acmKeu1xZN4H"
      },
      "source": [
        "classifier.load_weights('cnn_64x64.h5')"
      ],
      "execution_count": null,
      "outputs": []
    },
    {
      "cell_type": "code",
      "metadata": {
        "id": "QvrkJWWCZRbf"
      },
      "source": [
        "y_pred = classifier.predict(X_64x64)"
      ],
      "execution_count": null,
      "outputs": []
    },
    {
      "cell_type": "code",
      "metadata": {
        "id": "tIHPN4aDZWvT",
        "colab": {
          "base_uri": "https://localhost:8080/"
        },
        "outputId": "4e33c8bd-182b-488e-bb45-7e5ec05b40c0"
      },
      "source": [
        "acc_64x64 = accuracy(labels, y_pred)\r\n",
        "acc_64x64"
      ],
      "execution_count": null,
      "outputs": [
        {
          "output_type": "execute_result",
          "data": {
            "text/plain": [
              "0.87558"
            ]
          },
          "metadata": {
            "tags": []
          },
          "execution_count": 84
        }
      ]
    },
    {
      "cell_type": "markdown",
      "metadata": {
        "id": "clJBv4Kla9Nq"
      },
      "source": [
        "# PLOT"
      ]
    },
    {
      "cell_type": "code",
      "metadata": {
        "id": "zjH0LUEkdYpb"
      },
      "source": [
        "import seaborn as sns\r\n",
        "sns.set()"
      ],
      "execution_count": null,
      "outputs": []
    },
    {
      "cell_type": "code",
      "metadata": {
        "colab": {
          "base_uri": "https://localhost:8080/",
          "height": 402
        },
        "id": "4VOdvU6Ga-l1",
        "outputId": "29faec49-64f3-4b9c-a383-8d8a0ef224bc"
      },
      "source": [
        "acc_cifar = [0.73148, 0.86898, 0.90108]\r\n",
        "acc_gen = [acc_16x16, acc_32x32, acc_64x64]\r\n",
        "x_axis = [16, 32, 64]\r\n",
        "\r\n",
        "fontsize = 17\r\n",
        "linewidth = 2\r\n",
        "plt.figure(figsize=(10, 6))\r\n",
        "plt.xticks([16,32,64], fontsize=15)\r\n",
        "plt.yticks(fontsize=15)\r\n",
        "plt.plot(x_axis, acc_cifar, label='CIFAR10 images', linewidth=linewidth)\r\n",
        "plt.plot(x_axis, acc_gen, label='generated images', linewidth=linewidth)\r\n",
        "plt.title('CNN accuracy of images and resized images', fontsize=fontsize)\r\n",
        "plt.legend(prop={'size':14})\r\n",
        "plt.savefig('CNN_accuracy.png')\r\n",
        "plt.show()"
      ],
      "execution_count": null,
      "outputs": [
        {
          "output_type": "display_data",
          "data": {
            "image/png": "[encoded data removed]",
            "text/plain": [
              "<Figure size 720x432 with 1 Axes>"
            ]
          },
          "metadata": {
            "tags": []
          }
        }
      ]
    }
  ]
}